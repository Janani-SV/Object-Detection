{
  "nbformat": 4,
  "nbformat_minor": 0,
  "metadata": {
    "colab": {
      "name": "Untitled0.ipynb",
      "provenance": [],
      "mount_file_id": "1HCZL7QSJqBMrvOWhBjz32uimezCf9a7H",
      "authorship_tag": "ABX9TyP1volum/f/MiopGS1scQ3R",
      "include_colab_link": true
    },
    "kernelspec": {
      "name": "python3",
      "display_name": "Python 3"
    },
    "language_info": {
      "name": "python"
    }
  },
  "cells": [
    {
      "cell_type": "markdown",
      "metadata": {
        "id": "view-in-github",
        "colab_type": "text"
      },
      "source": [
        "<a href=\"https://colab.research.google.com/github/Janani-SV/Object-Detection/blob/main/Untitled0.ipynb\" target=\"_parent\"><img src=\"https://colab.research.google.com/assets/colab-badge.svg\" alt=\"Open In Colab\"/></a>"
      ]
    },
    {
      "cell_type": "code",
      "execution_count": 5,
      "metadata": {
        "colab": {
          "base_uri": "https://localhost:8080/"
        },
        "id": "bM53gc6lrIpT",
        "outputId": "30b0b20c-7409-4868-f9c6-fae2f79a30a9"
      },
      "outputs": [
        {
          "output_type": "stream",
          "name": "stdout",
          "text": [
            "Drive already mounted at /content/drive/; to attempt to forcibly remount, call drive.mount(\"/content/drive/\", force_remount=True).\n"
          ]
        }
      ],
      "source": [
        "from google.colab import drive \n",
        "drive.mount(\"/content/drive/\")"
      ]
    },
    {
      "cell_type": "code",
      "source": [
        "!cd drive"
      ],
      "metadata": {
        "id": "Vg3YAShxr1pA"
      },
      "execution_count": 7,
      "outputs": []
    },
    {
      "cell_type": "code",
      "source": [
        "!ls"
      ],
      "metadata": {
        "colab": {
          "base_uri": "https://localhost:8080/"
        },
        "id": "V_m6J-niscIB",
        "outputId": "951c42c5-204c-477e-fa02-7b6108c63913"
      },
      "execution_count": 8,
      "outputs": [
        {
          "output_type": "stream",
          "name": "stdout",
          "text": [
            "drive  sample_data\n"
          ]
        }
      ]
    },
    {
      "cell_type": "code",
      "source": [
        "!cd MyDrive"
      ],
      "metadata": {
        "colab": {
          "base_uri": "https://localhost:8080/"
        },
        "id": "rgeu9I5nsgNC",
        "outputId": "105bd566-eeca-4e65-f46b-66ec768e0383"
      },
      "execution_count": 10,
      "outputs": [
        {
          "output_type": "stream",
          "name": "stdout",
          "text": [
            "/bin/bash: line 0: cd: MyDrive: No such file or directory\n"
          ]
        }
      ]
    },
    {
      "cell_type": "code",
      "source": [
        "!ls"
      ],
      "metadata": {
        "colab": {
          "base_uri": "https://localhost:8080/"
        },
        "id": "ikVbuECLstUY",
        "outputId": "4857f3f5-831e-4d31-bb29-6ad29a7d56a5"
      },
      "execution_count": 13,
      "outputs": [
        {
          "output_type": "stream",
          "name": "stdout",
          "text": [
            "drive  iris.data  iris.names  sample_data\n"
          ]
        }
      ]
    },
    {
      "cell_type": "code",
      "source": [
        "pwd"
      ],
      "metadata": {
        "colab": {
          "base_uri": "https://localhost:8080/",
          "height": 35
        },
        "id": "VSbc8ErPtMF1",
        "outputId": "fdb490fc-b0b4-4cf4-9b01-db764e6da661"
      },
      "execution_count": 12,
      "outputs": [
        {
          "output_type": "execute_result",
          "data": {
            "application/vnd.google.colaboratory.intrinsic+json": {
              "type": "string"
            },
            "text/plain": [
              "'/content'"
            ]
          },
          "metadata": {},
          "execution_count": 12
        }
      ]
    },
    {
      "cell_type": "code",
      "source": [
        "!mv iris.data /content/drive/MyDrive/"
      ],
      "metadata": {
        "id": "OcFQVujTtUqp"
      },
      "execution_count": 14,
      "outputs": []
    },
    {
      "cell_type": "code",
      "source": [
        "!ls /content/drive/MyDrive"
      ],
      "metadata": {
        "colab": {
          "base_uri": "https://localhost:8080/"
        },
        "id": "CtiAC_qSudU_",
        "outputId": "cae1a901-44c2-4a5e-9463-538561144485"
      },
      "execution_count": 16,
      "outputs": [
        {
          "output_type": "stream",
          "name": "stdout",
          "text": [
            "'03 - Compromis et annexes LE COUEDIC '\\'' MUNIRAJ (1) (1).pdf'\n",
            "'03 - Compromis et annexes LE COUEDIC '\\'' MUNIRAJ (1).pdf'\n",
            " 19073939254_AOGxxxxx0M_A1.pdf\n",
            " 8E7DA2C0-9E96-443B-93F1-DF6F6E795D7F.pdf\n",
            " AC_94718.pdf\n",
            " airflow-materials.zip\n",
            "'Anna University Doc'\n",
            " ATOS\n",
            "'Attestation Assurance auto-mission 2019.pdf'\n",
            "'AWS LAB '\n",
            " BANK\n",
            " Branded\n",
            " CDS\n",
            "'chandra expenses.gsheet'\n",
            "'Colab Notebooks'\n",
            " components\n",
            "'Copy of Final.mp4'\n",
            "'Copy of Final Sequence_1.mp4'\n",
            "'Copy of _MG_2350.JPG'\n",
            "'Copy of Rosemary.gsheet'\n",
            " cv-ml-fullstack-2.pdf\n",
            " demande_de_rendez-vous-janani-ganesh-18-01-2021-11-00.pdf\n",
            " demande_de_rendez-vous-janani-sinniah_vellaswamy-04-11-2020-10-30.pdf\n",
            "'DOCKER SWARM STACK.docx'\n",
            "'Dossier candidature v1.pdf'\n",
            " EDF\n",
            " ETU\n",
            "'facture client GANESH 1820.pdf'\n",
            "'French Income Tax - 887 Euro - 2017.pdf.pdf'\n",
            "'French Translated Documents'\n",
            "'French Translation 2020'\n",
            " Galileo\n",
            "'Ganesh Muniraj - New Passport - Valid 2030.pdf'\n",
            "'GCP MY NOTES'\n",
            "'Getting started.pdf'\n",
            " GIT\n",
            "'GIT FORMATION'\n",
            " gitlab-recovery-codes.txt\n",
            "'Google Project Management.gdoc'\n",
            "'Hen Finger Family  Nursery rhymes.mp4'\n",
            "'HOME FRENCH'\n",
            "'House Rent Contract.pdf'\n",
            " IATA\n",
            " iris.data\n",
            "\"L'EAU\"\n",
            "\"Lettre d'offre Pret.pdf\"\n",
            "\"Lettre d'offre Pret signé.pdf\"\n",
            "'Looker .gdoc'\n",
            "'MLOPSData .gdoc'\n",
            "'Monetico Paiement > Secure bank card payment page.pdf'\n",
            "'My Copy of 2019 Planned Expenses.gdoc'\n",
            "'My Learings Doc '\n",
            "'NODE JS AND VUE JS INSTALLATION'\n",
            "'Office Atos Documents'\n",
            "'Organic Click through rate as a function of ranking.gdoc'\n",
            " paje_bulletinsalaire.pdf\n",
            "'PGM - Probabilistic Graphical Models.gdoc'\n",
            "'Planning formations EMHA - CPF 2018.pdf'\n",
            "\"Planning synthétique IDF 2018 EMHa Ecole des Métiers de l'Habitat .pdf\"\n",
            " popMICENV2PDF1.xhtml.pdf\n",
            "'Pricing Strategy.gdoc'\n",
            "'Programme détaillé formation EMHa  2017-2018 éligible au CPF CCP3.pdf'\n",
            "'Programme détaillé formation EMHa  2017-2018 éligibles au CPF CCP2.pdf'\n",
            " pubsub\n",
            "'Python code'\n",
            "'Python code (1)'\n",
            "'Quittance de Loyer'\n",
            "'RIB BRED SARL TECHNITHERM.jpg'\n",
            "'Rose Mery Fin de Contrat.gsheet'\n",
            "'Salary Slip'\n",
            " Scan.091332.pdf\n",
            " timbre\n",
            " Timbres-electroniques_I210210404283.pdf\n",
            "'Travelport Smartpoint Clue Card-18_07.pdf'\n",
            "'Untitled document (1).gdoc'\n",
            "'Untitled document (2).gdoc'\n",
            "'Untitled document (3).gdoc'\n",
            "'Untitled document (4).gdoc'\n",
            "'Untitled document (5).gdoc'\n",
            "'Untitled document.gdoc'\n",
            " Vacance\n",
            "'Vedh Birth Certificate.pdf'\n",
            "'Vedh school'\n",
            "'Vedh school (1)'\n",
            " viaavion\n",
            "'Vidhya Analytics Notes'\n",
            "'VUE JS NOTES'\n",
            "'VUEJS NOTES.docx'\n",
            "'VUEJS NOTES.gdoc'\n",
            "'VueJS Training'\n",
            "'Year 1'\n"
          ]
        }
      ]
    },
    {
      "cell_type": "code",
      "source": [
        ""
      ],
      "metadata": {
        "id": "P_juIthUuiQb"
      },
      "execution_count": null,
      "outputs": []
    }
  ]
}